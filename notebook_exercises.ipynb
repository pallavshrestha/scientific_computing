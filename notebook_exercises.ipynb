{
  "metadata": {
    "kernelspec": {
      "name": "python",
      "display_name": "Python (Pyodide)",
      "language": "python"
    },
    "language_info": {
      "codemirror_mode": {
        "name": "python",
        "version": 3
      },
      "file_extension": ".py",
      "mimetype": "text/x-python",
      "name": "python",
      "nbconvert_exporter": "python",
      "pygments_lexer": "ipython3",
      "version": "3.8"
    }
  },
  "nbformat_minor": 4,
  "nbformat": 4,
  "cells": [
    {
      "cell_type": "markdown",
      "source": "## Jupyter Notebook example\n\nFollow instructions and fill in where required. Do not modify anything else than what you are asked to.",
      "metadata": {}
    },
    {
      "cell_type": "markdown",
      "source": "## Table of Contents\n\n* [1. Shell commands and line magics](#shellmagic)\n* [2. Latex for formulas](#latex)\n* [3. Interactive widget](#interactive)\n* [4. Git](#git)",
      "metadata": {}
    },
    {
      "cell_type": "markdown",
      "source": "### 1. Shell commands and line magics <a class=\"anchor\" id=\"shellmagic\"></a>\n\n1.1. In code cell below, run a shell command to print your working directory.\n\n1.2. Using a line magic create an alias called \"hello\" for command \"echo \"¡Hola mundo!\"\" and test it. Your answer should contain one line for creating alias and one line for using the alias.",
      "metadata": {}
    },
    {
      "cell_type": "code",
      "source": "# Exercise 1.1. here:pwd\n\n# Exercise 1.2. here:alias hello='echo \"¡Hola mundo!\"'\n",
      "metadata": {},
      "execution_count": 39,
      "outputs": []
    },
    {
      "cell_type": "markdown",
      "source": "### 2. Markdown text <a class=\"anchor\" id=\"latex\"></a>\n\nDifferent kind of text can be added into markdown cells. [Here](https://jupyter-notebook.readthedocs.io/en/stable/examples/Notebook/Working%20With%20Markdown%20Cells.html) is a good source into Markdown basics.\n\n2.1. In markdown cell below display Pythagorean theorem using LaTex syntax.\n\n2.2. Display a Python function called \"hello\" that returns \"Hallo Welt!\". Use Github flavored markdown. (You may use some other programming language here if you wish)",
      "metadata": {}
    },
    {
      "cell_type": "markdown",
      "source": "2.1. here:\n\\begin{equation}\nc = \\sqrt{a^2 + b^2}\n\\end{equation}\n\n\n2.2. here:\n```python\ndef hello():\n    \"\"\"\n    A simple function that returns the string \"Hallo Welt!\".\n    \"\"\"\n    return \"Hallo Welt!\"\n\n",
      "metadata": {}
    },
    {
      "cell_type": "markdown",
      "source": "### 3. Interactive widget <a class=\"anchor\" id=\"interactive\"></a>\n\nIn the program below we want to investigate a set of movie reviews and see what are the most frequent words there. We are not interested in seeing punctuation marks or the clearly most common words referred as stopwords. \n\n3.1. Run the code and investigate the output. In the marked codeline there is something wrong that causes wrong output. Can you figure out what to add to display correct words?\n\n3.2. Use the @interact decorator at the end of the program to range displaying 5 to 10 most frequent words. You can see an example of the usage of the decorator [here](https://coderefinery.github.io/jupyter/examples/#widgets-for-interactive-data-fitting)",
      "metadata": {}
    },
    {
      "cell_type": "code",
      "source": "# Notice!: \n# For ModuleNotFoundError: No module named 'nltk' you need to pip install nltk to your environment\n# For ModuleNotFoundError: No module named 'ipywidgets' you need to pip install ipywidgets to your environment\n# To install nltk data sets movie_reviews and stopwords you need to install the data sets with nltk.download. \n# See examples: https://www.nltk.org/data.html\n# Do that here:\nimport nltk",
      "metadata": {},
      "execution_count": 1,
      "outputs": []
    },
    {
      "cell_type": "code",
      "source": "from nltk import FreqDist\nfrom nltk import RegexpTokenizer\nfrom nltk.corpus import movie_reviews\nfrom nltk.corpus import stopwords \nfrom ipywidgets import interact\n\ntokenizer = RegexpTokenizer(r\"\\w+\")\nword_tokens = tokenizer.tokenize(movie_reviews.raw())\n\nstop_words = set(stopwords.words('english'))\n\n# Exercise 3.1. below: \nfiltered_words = [w for w in word_tokens if w.lower() not in stop_words]\n\n\nfd = FreqDist(filtered_words)\nfd.plot(5)\n\n# Exercise 3.2. here:\n@interact(top_n=(5, 10))\ndef plot_freq_dist(top_n):\n    fd.plot(top_n)",
      "metadata": {},
      "execution_count": null,
      "outputs": []
    },
    {
      "cell_type": "markdown",
      "source": "### 4. Git <a class=\"anchor\" id=\"git\"></a>\n\nFollow [these](https://coderefinery.github.io/jupyter/version-control/) instructions to save this notebook and create a repository for it. After you have done this, paste the repository url in the cell below. Please make your repository public on Github so that your reviewer is able to assess this exercise.",
      "metadata": {}
    },
    {
      "cell_type": "code",
      "source": "# Paste your repository url here: \n# ",
      "metadata": {},
      "execution_count": 52,
      "outputs": []
    }
  ]
}